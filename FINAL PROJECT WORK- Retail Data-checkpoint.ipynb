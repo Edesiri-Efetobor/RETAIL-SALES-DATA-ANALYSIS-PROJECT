{
 "cells": [
  {
   "cell_type": "markdown",
   "id": "b8acc638",
   "metadata": {},
   "source": [
    "# DATA ANALYSIS OF RETAIL SALES DATA SET \n",
    "  \n",
    "\n",
    "This dataset provides detailed insights into retail sales, featuring a range of factors that influence sales performance. It includes records on sales revenue, units sold, discount percentages, marketing spend, and the impact of seasonal trends and holidays.\n",
    "\n",
    "This Retail Sales Dataset is gotten from Kaggle: https://www.kaggle.com/datasets/abdullah0a/retail-sales-data-with-seasonal-trends-and-marketing/data\n",
    "\n",
    "Key Features: Sales Revenue (USD): Total revenue generated from sales.\n",
    "\n",
    "Units Sold: Quantity of items sold.\n",
    "\n",
    "Discount Percentage: The percentage discount applied to products.\n",
    "\n",
    "Marketing Spend (USD): Budget allocated to marketing efforts.\n",
    "\n",
    "Store ID: Identifier for the retail store.\n",
    "\n",
    "Product Category: The category to which the product belongs (e.g., Electronics, Clothing).\n",
    "\n",
    "Date: The date when the sale occurred.\n",
    "\n",
    "Store Location: Geographic location of the store.\n",
    "\n",
    "Day of the Week: Day when the sale took place.\n",
    "\n",
    "Holiday Effect: Indicator of whether the sale happened during a holiday period."
   ]
  },
  {
   "cell_type": "markdown",
   "id": "862e7ecd",
   "metadata": {},
   "source": [
    "# Loading the data"
   ]
  },
  {
   "cell_type": "code",
   "execution_count": 1,
   "id": "02133663",
   "metadata": {},
   "outputs": [],
   "source": [
    "import numpy as np\n",
    "import pandas as pd\n",
    "import matplotlib.pyplot as plt\n",
    "import seaborn as sns"
   ]
  },
  {
   "cell_type": "code",
   "execution_count": 2,
   "id": "7b0da9e3",
   "metadata": {},
   "outputs": [
    {
     "data": {
      "text/html": [
       "<div>\n",
       "<style scoped>\n",
       "    .dataframe tbody tr th:only-of-type {\n",
       "        vertical-align: middle;\n",
       "    }\n",
       "\n",
       "    .dataframe tbody tr th {\n",
       "        vertical-align: top;\n",
       "    }\n",
       "\n",
       "    .dataframe thead th {\n",
       "        text-align: right;\n",
       "    }\n",
       "</style>\n",
       "<table border=\"1\" class=\"dataframe\">\n",
       "  <thead>\n",
       "    <tr style=\"text-align: right;\">\n",
       "      <th></th>\n",
       "      <th>Store ID</th>\n",
       "      <th>Product ID</th>\n",
       "      <th>Date</th>\n",
       "      <th>Units Sold</th>\n",
       "      <th>Sales Revenue (USD)</th>\n",
       "      <th>Discount Percentage</th>\n",
       "      <th>Marketing Spend (USD)</th>\n",
       "      <th>Store Location</th>\n",
       "      <th>Product Category</th>\n",
       "      <th>Day of the Week</th>\n",
       "      <th>Holiday Effect</th>\n",
       "    </tr>\n",
       "  </thead>\n",
       "  <tbody>\n",
       "    <tr>\n",
       "      <th>0</th>\n",
       "      <td>Spearsland</td>\n",
       "      <td>52372247</td>\n",
       "      <td>1/1/2022</td>\n",
       "      <td>9</td>\n",
       "      <td>2741.69</td>\n",
       "      <td>20</td>\n",
       "      <td>81</td>\n",
       "      <td>Tanzania</td>\n",
       "      <td>Furniture</td>\n",
       "      <td>Saturday</td>\n",
       "      <td>False</td>\n",
       "    </tr>\n",
       "    <tr>\n",
       "      <th>1</th>\n",
       "      <td>Spearsland</td>\n",
       "      <td>52372247</td>\n",
       "      <td>1/2/2022</td>\n",
       "      <td>7</td>\n",
       "      <td>2665.53</td>\n",
       "      <td>0</td>\n",
       "      <td>0</td>\n",
       "      <td>Mauritania</td>\n",
       "      <td>Furniture</td>\n",
       "      <td>Sunday</td>\n",
       "      <td>False</td>\n",
       "    </tr>\n",
       "    <tr>\n",
       "      <th>2</th>\n",
       "      <td>Spearsland</td>\n",
       "      <td>52372247</td>\n",
       "      <td>1/3/2022</td>\n",
       "      <td>1</td>\n",
       "      <td>380.79</td>\n",
       "      <td>0</td>\n",
       "      <td>0</td>\n",
       "      <td>Saint Pierre and Miquelon</td>\n",
       "      <td>Furniture</td>\n",
       "      <td>Monday</td>\n",
       "      <td>False</td>\n",
       "    </tr>\n",
       "    <tr>\n",
       "      <th>3</th>\n",
       "      <td>Spearsland</td>\n",
       "      <td>52372247</td>\n",
       "      <td>1/4/2022</td>\n",
       "      <td>4</td>\n",
       "      <td>1523.16</td>\n",
       "      <td>0</td>\n",
       "      <td>0</td>\n",
       "      <td>Australia</td>\n",
       "      <td>Furniture</td>\n",
       "      <td>Tuesday</td>\n",
       "      <td>False</td>\n",
       "    </tr>\n",
       "    <tr>\n",
       "      <th>4</th>\n",
       "      <td>Spearsland</td>\n",
       "      <td>52372247</td>\n",
       "      <td>1/5/2022</td>\n",
       "      <td>2</td>\n",
       "      <td>761.58</td>\n",
       "      <td>0</td>\n",
       "      <td>0</td>\n",
       "      <td>Swaziland</td>\n",
       "      <td>Furniture</td>\n",
       "      <td>Wednesday</td>\n",
       "      <td>False</td>\n",
       "    </tr>\n",
       "    <tr>\n",
       "      <th>...</th>\n",
       "      <td>...</td>\n",
       "      <td>...</td>\n",
       "      <td>...</td>\n",
       "      <td>...</td>\n",
       "      <td>...</td>\n",
       "      <td>...</td>\n",
       "      <td>...</td>\n",
       "      <td>...</td>\n",
       "      <td>...</td>\n",
       "      <td>...</td>\n",
       "      <td>...</td>\n",
       "    </tr>\n",
       "    <tr>\n",
       "      <th>29995</th>\n",
       "      <td>Spearsland</td>\n",
       "      <td>50239115</td>\n",
       "      <td>1/25/2022</td>\n",
       "      <td>5</td>\n",
       "      <td>2501.15</td>\n",
       "      <td>0</td>\n",
       "      <td>100</td>\n",
       "      <td>Malawi</td>\n",
       "      <td>Clothing</td>\n",
       "      <td>Tuesday</td>\n",
       "      <td>False</td>\n",
       "    </tr>\n",
       "    <tr>\n",
       "      <th>29996</th>\n",
       "      <td>Spearsland</td>\n",
       "      <td>50239115</td>\n",
       "      <td>1/26/2022</td>\n",
       "      <td>3</td>\n",
       "      <td>1500.69</td>\n",
       "      <td>0</td>\n",
       "      <td>0</td>\n",
       "      <td>Sudan</td>\n",
       "      <td>Clothing</td>\n",
       "      <td>Wednesday</td>\n",
       "      <td>False</td>\n",
       "    </tr>\n",
       "    <tr>\n",
       "      <th>29997</th>\n",
       "      <td>Spearsland</td>\n",
       "      <td>50239115</td>\n",
       "      <td>1/27/2022</td>\n",
       "      <td>6</td>\n",
       "      <td>3001.38</td>\n",
       "      <td>0</td>\n",
       "      <td>0</td>\n",
       "      <td>South Georgia and the South Sandwich Islands</td>\n",
       "      <td>Clothing</td>\n",
       "      <td>Thursday</td>\n",
       "      <td>False</td>\n",
       "    </tr>\n",
       "    <tr>\n",
       "      <th>29998</th>\n",
       "      <td>Spearsland</td>\n",
       "      <td>50239115</td>\n",
       "      <td>1/28/2022</td>\n",
       "      <td>5</td>\n",
       "      <td>2501.15</td>\n",
       "      <td>0</td>\n",
       "      <td>0</td>\n",
       "      <td>Haiti</td>\n",
       "      <td>Clothing</td>\n",
       "      <td>Friday</td>\n",
       "      <td>False</td>\n",
       "    </tr>\n",
       "    <tr>\n",
       "      <th>29999</th>\n",
       "      <td>Spearsland</td>\n",
       "      <td>50239115</td>\n",
       "      <td>1/29/2022</td>\n",
       "      <td>3</td>\n",
       "      <td>1425.66</td>\n",
       "      <td>5</td>\n",
       "      <td>190</td>\n",
       "      <td>Mozambique</td>\n",
       "      <td>Clothing</td>\n",
       "      <td>Saturday</td>\n",
       "      <td>False</td>\n",
       "    </tr>\n",
       "  </tbody>\n",
       "</table>\n",
       "<p>30000 rows × 11 columns</p>\n",
       "</div>"
      ],
      "text/plain": [
       "         Store ID  Product ID       Date  Units Sold  Sales Revenue (USD)  \\\n",
       "0      Spearsland    52372247   1/1/2022           9              2741.69   \n",
       "1      Spearsland    52372247   1/2/2022           7              2665.53   \n",
       "2      Spearsland    52372247   1/3/2022           1               380.79   \n",
       "3      Spearsland    52372247   1/4/2022           4              1523.16   \n",
       "4      Spearsland    52372247   1/5/2022           2               761.58   \n",
       "...           ...         ...        ...         ...                  ...   \n",
       "29995  Spearsland    50239115  1/25/2022           5              2501.15   \n",
       "29996  Spearsland    50239115  1/26/2022           3              1500.69   \n",
       "29997  Spearsland    50239115  1/27/2022           6              3001.38   \n",
       "29998  Spearsland    50239115  1/28/2022           5              2501.15   \n",
       "29999  Spearsland    50239115  1/29/2022           3              1425.66   \n",
       "\n",
       "       Discount Percentage  Marketing Spend (USD)  \\\n",
       "0                       20                     81   \n",
       "1                        0                      0   \n",
       "2                        0                      0   \n",
       "3                        0                      0   \n",
       "4                        0                      0   \n",
       "...                    ...                    ...   \n",
       "29995                    0                    100   \n",
       "29996                    0                      0   \n",
       "29997                    0                      0   \n",
       "29998                    0                      0   \n",
       "29999                    5                    190   \n",
       "\n",
       "                                     Store Location Product Category  \\\n",
       "0                                          Tanzania        Furniture   \n",
       "1                                        Mauritania        Furniture   \n",
       "2                         Saint Pierre and Miquelon        Furniture   \n",
       "3                                         Australia        Furniture   \n",
       "4                                         Swaziland        Furniture   \n",
       "...                                             ...              ...   \n",
       "29995                                        Malawi         Clothing   \n",
       "29996                                         Sudan         Clothing   \n",
       "29997  South Georgia and the South Sandwich Islands         Clothing   \n",
       "29998                                         Haiti         Clothing   \n",
       "29999                                    Mozambique         Clothing   \n",
       "\n",
       "      Day of the Week  Holiday Effect  \n",
       "0            Saturday           False  \n",
       "1              Sunday           False  \n",
       "2              Monday           False  \n",
       "3             Tuesday           False  \n",
       "4           Wednesday           False  \n",
       "...               ...             ...  \n",
       "29995         Tuesday           False  \n",
       "29996       Wednesday           False  \n",
       "29997        Thursday           False  \n",
       "29998          Friday           False  \n",
       "29999        Saturday           False  \n",
       "\n",
       "[30000 rows x 11 columns]"
      ]
     },
     "execution_count": 2,
     "metadata": {},
     "output_type": "execute_result"
    }
   ],
   "source": [
    "retail_df=pd.read_csv('Retail_sales.csv')\n",
    "retail_df"
   ]
  },
  {
   "cell_type": "code",
   "execution_count": 3,
   "id": "7e70fbd2",
   "metadata": {},
   "outputs": [
    {
     "data": {
      "text/plain": [
       "Index(['Store ID', 'Product ID', 'Date', 'Units Sold', 'Sales Revenue (USD)',\n",
       "       'Discount Percentage', 'Marketing Spend (USD)', 'Store Location',\n",
       "       'Product Category', 'Day of the Week', 'Holiday Effect'],\n",
       "      dtype='object')"
      ]
     },
     "execution_count": 3,
     "metadata": {},
     "output_type": "execute_result"
    }
   ],
   "source": [
    "# Checking the different columns in the data set\n",
    "retail_df.columns"
   ]
  },
  {
   "cell_type": "code",
   "execution_count": 4,
   "id": "a6b4f2f8",
   "metadata": {},
   "outputs": [
    {
     "data": {
      "text/plain": [
       "(30000, 11)"
      ]
     },
     "execution_count": 4,
     "metadata": {},
     "output_type": "execute_result"
    }
   ],
   "source": [
    "#Discovering the number of rows and columns\n",
    "retail_df.shape"
   ]
  },
  {
   "cell_type": "markdown",
   "id": "5c7e9e91",
   "metadata": {},
   "source": [
    "# General Analysis of the Data"
   ]
  },
  {
   "cell_type": "code",
   "execution_count": 5,
   "id": "0b3d3b70",
   "metadata": {},
   "outputs": [
    {
     "data": {
      "text/html": [
       "<div>\n",
       "<style scoped>\n",
       "    .dataframe tbody tr th:only-of-type {\n",
       "        vertical-align: middle;\n",
       "    }\n",
       "\n",
       "    .dataframe tbody tr th {\n",
       "        vertical-align: top;\n",
       "    }\n",
       "\n",
       "    .dataframe thead th {\n",
       "        text-align: right;\n",
       "    }\n",
       "</style>\n",
       "<table border=\"1\" class=\"dataframe\">\n",
       "  <thead>\n",
       "    <tr style=\"text-align: right;\">\n",
       "      <th></th>\n",
       "      <th>Store ID</th>\n",
       "      <th>Product ID</th>\n",
       "      <th>Date</th>\n",
       "      <th>Units Sold</th>\n",
       "      <th>Sales Revenue (USD)</th>\n",
       "      <th>Discount Percentage</th>\n",
       "      <th>Marketing Spend (USD)</th>\n",
       "      <th>Store Location</th>\n",
       "      <th>Product Category</th>\n",
       "      <th>Day of the Week</th>\n",
       "      <th>Holiday Effect</th>\n",
       "    </tr>\n",
       "  </thead>\n",
       "  <tbody>\n",
       "    <tr>\n",
       "      <th>0</th>\n",
       "      <td>Spearsland</td>\n",
       "      <td>52372247</td>\n",
       "      <td>1/1/2022</td>\n",
       "      <td>9</td>\n",
       "      <td>2741.69</td>\n",
       "      <td>20</td>\n",
       "      <td>81</td>\n",
       "      <td>Tanzania</td>\n",
       "      <td>Furniture</td>\n",
       "      <td>Saturday</td>\n",
       "      <td>False</td>\n",
       "    </tr>\n",
       "    <tr>\n",
       "      <th>1</th>\n",
       "      <td>Spearsland</td>\n",
       "      <td>52372247</td>\n",
       "      <td>1/2/2022</td>\n",
       "      <td>7</td>\n",
       "      <td>2665.53</td>\n",
       "      <td>0</td>\n",
       "      <td>0</td>\n",
       "      <td>Mauritania</td>\n",
       "      <td>Furniture</td>\n",
       "      <td>Sunday</td>\n",
       "      <td>False</td>\n",
       "    </tr>\n",
       "    <tr>\n",
       "      <th>2</th>\n",
       "      <td>Spearsland</td>\n",
       "      <td>52372247</td>\n",
       "      <td>1/3/2022</td>\n",
       "      <td>1</td>\n",
       "      <td>380.79</td>\n",
       "      <td>0</td>\n",
       "      <td>0</td>\n",
       "      <td>Saint Pierre and Miquelon</td>\n",
       "      <td>Furniture</td>\n",
       "      <td>Monday</td>\n",
       "      <td>False</td>\n",
       "    </tr>\n",
       "    <tr>\n",
       "      <th>3</th>\n",
       "      <td>Spearsland</td>\n",
       "      <td>52372247</td>\n",
       "      <td>1/4/2022</td>\n",
       "      <td>4</td>\n",
       "      <td>1523.16</td>\n",
       "      <td>0</td>\n",
       "      <td>0</td>\n",
       "      <td>Australia</td>\n",
       "      <td>Furniture</td>\n",
       "      <td>Tuesday</td>\n",
       "      <td>False</td>\n",
       "    </tr>\n",
       "    <tr>\n",
       "      <th>4</th>\n",
       "      <td>Spearsland</td>\n",
       "      <td>52372247</td>\n",
       "      <td>1/5/2022</td>\n",
       "      <td>2</td>\n",
       "      <td>761.58</td>\n",
       "      <td>0</td>\n",
       "      <td>0</td>\n",
       "      <td>Swaziland</td>\n",
       "      <td>Furniture</td>\n",
       "      <td>Wednesday</td>\n",
       "      <td>False</td>\n",
       "    </tr>\n",
       "    <tr>\n",
       "      <th>5</th>\n",
       "      <td>Spearsland</td>\n",
       "      <td>52372247</td>\n",
       "      <td>1/6/2022</td>\n",
       "      <td>8</td>\n",
       "      <td>3046.32</td>\n",
       "      <td>0</td>\n",
       "      <td>41</td>\n",
       "      <td>Bhutan</td>\n",
       "      <td>Furniture</td>\n",
       "      <td>Thursday</td>\n",
       "      <td>False</td>\n",
       "    </tr>\n",
       "    <tr>\n",
       "      <th>6</th>\n",
       "      <td>Spearsland</td>\n",
       "      <td>52372247</td>\n",
       "      <td>1/7/2022</td>\n",
       "      <td>6</td>\n",
       "      <td>2284.74</td>\n",
       "      <td>0</td>\n",
       "      <td>0</td>\n",
       "      <td>Suriname</td>\n",
       "      <td>Furniture</td>\n",
       "      <td>Friday</td>\n",
       "      <td>False</td>\n",
       "    </tr>\n",
       "    <tr>\n",
       "      <th>7</th>\n",
       "      <td>Spearsland</td>\n",
       "      <td>52372247</td>\n",
       "      <td>1/8/2022</td>\n",
       "      <td>9</td>\n",
       "      <td>3427.11</td>\n",
       "      <td>0</td>\n",
       "      <td>83</td>\n",
       "      <td>Taiwan</td>\n",
       "      <td>Furniture</td>\n",
       "      <td>Saturday</td>\n",
       "      <td>False</td>\n",
       "    </tr>\n",
       "    <tr>\n",
       "      <th>8</th>\n",
       "      <td>Spearsland</td>\n",
       "      <td>52372247</td>\n",
       "      <td>1/9/2022</td>\n",
       "      <td>7</td>\n",
       "      <td>2665.53</td>\n",
       "      <td>0</td>\n",
       "      <td>0</td>\n",
       "      <td>Papua New Guinea</td>\n",
       "      <td>Furniture</td>\n",
       "      <td>Sunday</td>\n",
       "      <td>False</td>\n",
       "    </tr>\n",
       "    <tr>\n",
       "      <th>9</th>\n",
       "      <td>Spearsland</td>\n",
       "      <td>52372247</td>\n",
       "      <td>1/10/2022</td>\n",
       "      <td>1</td>\n",
       "      <td>380.79</td>\n",
       "      <td>0</td>\n",
       "      <td>164</td>\n",
       "      <td>Canada</td>\n",
       "      <td>Furniture</td>\n",
       "      <td>Monday</td>\n",
       "      <td>False</td>\n",
       "    </tr>\n",
       "  </tbody>\n",
       "</table>\n",
       "</div>"
      ],
      "text/plain": [
       "     Store ID  Product ID       Date  Units Sold  Sales Revenue (USD)  \\\n",
       "0  Spearsland    52372247   1/1/2022           9              2741.69   \n",
       "1  Spearsland    52372247   1/2/2022           7              2665.53   \n",
       "2  Spearsland    52372247   1/3/2022           1               380.79   \n",
       "3  Spearsland    52372247   1/4/2022           4              1523.16   \n",
       "4  Spearsland    52372247   1/5/2022           2               761.58   \n",
       "5  Spearsland    52372247   1/6/2022           8              3046.32   \n",
       "6  Spearsland    52372247   1/7/2022           6              2284.74   \n",
       "7  Spearsland    52372247   1/8/2022           9              3427.11   \n",
       "8  Spearsland    52372247   1/9/2022           7              2665.53   \n",
       "9  Spearsland    52372247  1/10/2022           1               380.79   \n",
       "\n",
       "   Discount Percentage  Marketing Spend (USD)             Store Location  \\\n",
       "0                   20                     81                   Tanzania   \n",
       "1                    0                      0                 Mauritania   \n",
       "2                    0                      0  Saint Pierre and Miquelon   \n",
       "3                    0                      0                  Australia   \n",
       "4                    0                      0                  Swaziland   \n",
       "5                    0                     41                     Bhutan   \n",
       "6                    0                      0                   Suriname   \n",
       "7                    0                     83                     Taiwan   \n",
       "8                    0                      0           Papua New Guinea   \n",
       "9                    0                    164                     Canada   \n",
       "\n",
       "  Product Category Day of the Week  Holiday Effect  \n",
       "0        Furniture        Saturday           False  \n",
       "1        Furniture          Sunday           False  \n",
       "2        Furniture          Monday           False  \n",
       "3        Furniture         Tuesday           False  \n",
       "4        Furniture       Wednesday           False  \n",
       "5        Furniture        Thursday           False  \n",
       "6        Furniture          Friday           False  \n",
       "7        Furniture        Saturday           False  \n",
       "8        Furniture          Sunday           False  \n",
       "9        Furniture          Monday           False  "
      ]
     },
     "execution_count": 5,
     "metadata": {},
     "output_type": "execute_result"
    }
   ],
   "source": [
    "#To see the first 10 rows\n",
    "retail_df.head(10)"
   ]
  },
  {
   "cell_type": "code",
   "execution_count": 6,
   "id": "378cc80d",
   "metadata": {},
   "outputs": [
    {
     "data": {
      "text/plain": [
       "Store ID                  object\n",
       "Product ID                 int64\n",
       "Date                      object\n",
       "Units Sold                 int64\n",
       "Sales Revenue (USD)      float64\n",
       "Discount Percentage        int64\n",
       "Marketing Spend (USD)      int64\n",
       "Store Location            object\n",
       "Product Category          object\n",
       "Day of the Week           object\n",
       "Holiday Effect              bool\n",
       "dtype: object"
      ]
     },
     "execution_count": 6,
     "metadata": {},
     "output_type": "execute_result"
    }
   ],
   "source": [
    "retail_df.dtypes"
   ]
  },
  {
   "cell_type": "code",
   "execution_count": 7,
   "id": "d5464f16",
   "metadata": {},
   "outputs": [
    {
     "data": {
      "text/html": [
       "<div>\n",
       "<style scoped>\n",
       "    .dataframe tbody tr th:only-of-type {\n",
       "        vertical-align: middle;\n",
       "    }\n",
       "\n",
       "    .dataframe tbody tr th {\n",
       "        vertical-align: top;\n",
       "    }\n",
       "\n",
       "    .dataframe thead th {\n",
       "        text-align: right;\n",
       "    }\n",
       "</style>\n",
       "<table border=\"1\" class=\"dataframe\">\n",
       "  <thead>\n",
       "    <tr style=\"text-align: right;\">\n",
       "      <th></th>\n",
       "      <th>Product ID</th>\n",
       "      <th>Units Sold</th>\n",
       "      <th>Sales Revenue (USD)</th>\n",
       "      <th>Discount Percentage</th>\n",
       "      <th>Marketing Spend (USD)</th>\n",
       "    </tr>\n",
       "  </thead>\n",
       "  <tbody>\n",
       "    <tr>\n",
       "      <th>count</th>\n",
       "      <td>3.000000e+04</td>\n",
       "      <td>30000.000000</td>\n",
       "      <td>30000.000000</td>\n",
       "      <td>30000.000000</td>\n",
       "      <td>30000.000000</td>\n",
       "    </tr>\n",
       "    <tr>\n",
       "      <th>mean</th>\n",
       "      <td>4.461294e+07</td>\n",
       "      <td>6.161967</td>\n",
       "      <td>2749.509593</td>\n",
       "      <td>2.973833</td>\n",
       "      <td>49.944033</td>\n",
       "    </tr>\n",
       "    <tr>\n",
       "      <th>std</th>\n",
       "      <td>2.779759e+07</td>\n",
       "      <td>3.323929</td>\n",
       "      <td>2568.639288</td>\n",
       "      <td>5.974530</td>\n",
       "      <td>64.401655</td>\n",
       "    </tr>\n",
       "    <tr>\n",
       "      <th>min</th>\n",
       "      <td>3.636541e+06</td>\n",
       "      <td>0.000000</td>\n",
       "      <td>0.000000</td>\n",
       "      <td>0.000000</td>\n",
       "      <td>0.000000</td>\n",
       "    </tr>\n",
       "    <tr>\n",
       "      <th>25%</th>\n",
       "      <td>2.228600e+07</td>\n",
       "      <td>4.000000</td>\n",
       "      <td>882.592500</td>\n",
       "      <td>0.000000</td>\n",
       "      <td>0.000000</td>\n",
       "    </tr>\n",
       "    <tr>\n",
       "      <th>50%</th>\n",
       "      <td>4.002449e+07</td>\n",
       "      <td>6.000000</td>\n",
       "      <td>1902.420000</td>\n",
       "      <td>0.000000</td>\n",
       "      <td>1.000000</td>\n",
       "    </tr>\n",
       "    <tr>\n",
       "      <th>75%</th>\n",
       "      <td>6.559352e+07</td>\n",
       "      <td>8.000000</td>\n",
       "      <td>3863.920000</td>\n",
       "      <td>0.000000</td>\n",
       "      <td>100.000000</td>\n",
       "    </tr>\n",
       "    <tr>\n",
       "      <th>max</th>\n",
       "      <td>9.628253e+07</td>\n",
       "      <td>56.000000</td>\n",
       "      <td>27165.880000</td>\n",
       "      <td>20.000000</td>\n",
       "      <td>199.000000</td>\n",
       "    </tr>\n",
       "  </tbody>\n",
       "</table>\n",
       "</div>"
      ],
      "text/plain": [
       "         Product ID    Units Sold  Sales Revenue (USD)  Discount Percentage  \\\n",
       "count  3.000000e+04  30000.000000         30000.000000         30000.000000   \n",
       "mean   4.461294e+07      6.161967          2749.509593             2.973833   \n",
       "std    2.779759e+07      3.323929          2568.639288             5.974530   \n",
       "min    3.636541e+06      0.000000             0.000000             0.000000   \n",
       "25%    2.228600e+07      4.000000           882.592500             0.000000   \n",
       "50%    4.002449e+07      6.000000          1902.420000             0.000000   \n",
       "75%    6.559352e+07      8.000000          3863.920000             0.000000   \n",
       "max    9.628253e+07     56.000000         27165.880000            20.000000   \n",
       "\n",
       "       Marketing Spend (USD)  \n",
       "count           30000.000000  \n",
       "mean               49.944033  \n",
       "std                64.401655  \n",
       "min                 0.000000  \n",
       "25%                 0.000000  \n",
       "50%                 1.000000  \n",
       "75%               100.000000  \n",
       "max               199.000000  "
      ]
     },
     "execution_count": 7,
     "metadata": {},
     "output_type": "execute_result"
    }
   ],
   "source": [
    "retail_df.describe()"
   ]
  },
  {
   "cell_type": "code",
   "execution_count": 8,
   "id": "b63b7d14",
   "metadata": {},
   "outputs": [
    {
     "name": "stdout",
     "output_type": "stream",
     "text": [
      "1\n"
     ]
    }
   ],
   "source": [
    "# Number of stores\n",
    "print(retail_df['Store ID'].nunique())"
   ]
  },
  {
   "cell_type": "code",
   "execution_count": 9,
   "id": "e0e38583",
   "metadata": {},
   "outputs": [
    {
     "data": {
      "text/plain": [
       "array([[<AxesSubplot:title={'center':'Product ID'}>,\n",
       "        <AxesSubplot:title={'center':'Units Sold'}>],\n",
       "       [<AxesSubplot:title={'center':'Sales Revenue (USD)'}>,\n",
       "        <AxesSubplot:title={'center':'Discount Percentage'}>],\n",
       "       [<AxesSubplot:title={'center':'Marketing Spend (USD)'}>,\n",
       "        <AxesSubplot:>]], dtype=object)"
      ]
     },
     "execution_count": 9,
     "metadata": {},
     "output_type": "execute_result"
    },
    {
     "data": {
      "image/png": "[encoded data removed]",
      "text/plain": [
       "<Figure size 1440x2160 with 6 Axes>"
      ]
     },
     "metadata": {
      "needs_background": "light"
     },
     "output_type": "display_data"
    }
   ],
   "source": [
    "# Plotting a histogram for all the variables\n",
    "retail_df.hist(figsize=(20,30))"
   ]
  },
  {
   "cell_type": "code",
   "execution_count": 10,
   "id": "87612565",
   "metadata": {},
   "outputs": [
    {
     "name": "stdout",
     "output_type": "stream",
     "text": [
      "<class 'pandas.core.frame.DataFrame'>\n",
      "RangeIndex: 30000 entries, 0 to 29999\n",
      "Data columns (total 11 columns):\n",
      " #   Column                 Non-Null Count  Dtype  \n",
      "---  ------                 --------------  -----  \n",
      " 0   Store ID               30000 non-null  object \n",
      " 1   Product ID             30000 non-null  int64  \n",
      " 2   Date                   30000 non-null  object \n",
      " 3   Units Sold             30000 non-null  int64  \n",
      " 4   Sales Revenue (USD)    30000 non-null  float64\n",
      " 5   Discount Percentage    30000 non-null  int64  \n",
      " 6   Marketing Spend (USD)  30000 non-null  int64  \n",
      " 7   Store Location         30000 non-null  object \n",
      " 8   Product Category       30000 non-null  object \n",
      " 9   Day of the Week        30000 non-null  object \n",
      " 10  Holiday Effect         30000 non-null  bool   \n",
      "dtypes: bool(1), float64(1), int64(4), object(5)\n",
      "memory usage: 2.3+ MB\n"
     ]
    }
   ],
   "source": [
    "#Data set information\n",
    "retail_df.info()"
   ]
  },
  {
   "cell_type": "markdown",
   "id": "6fd5946d",
   "metadata": {},
   "source": [
    "# Data Cleaning"
   ]
  },
  {
   "cell_type": "code",
   "execution_count": 11,
   "id": "6e9b2c01",
   "metadata": {},
   "outputs": [
    {
     "data": {
      "text/html": [
       "<div>\n",
       "<style scoped>\n",
       "    .dataframe tbody tr th:only-of-type {\n",
       "        vertical-align: middle;\n",
       "    }\n",
       "\n",
       "    .dataframe tbody tr th {\n",
       "        vertical-align: top;\n",
       "    }\n",
       "\n",
       "    .dataframe thead th {\n",
       "        text-align: right;\n",
       "    }\n",
       "</style>\n",
       "<table border=\"1\" class=\"dataframe\">\n",
       "  <thead>\n",
       "    <tr style=\"text-align: right;\">\n",
       "      <th></th>\n",
       "      <th>Product ID</th>\n",
       "      <th>Units Sold</th>\n",
       "      <th>Sales Revenue (USD)</th>\n",
       "      <th>Discount Percentage</th>\n",
       "      <th>Marketing Spend (USD)</th>\n",
       "    </tr>\n",
       "  </thead>\n",
       "  <tbody>\n",
       "    <tr>\n",
       "      <th>count</th>\n",
       "      <td>3.000000e+04</td>\n",
       "      <td>30000.000000</td>\n",
       "      <td>30000.000000</td>\n",
       "      <td>30000.000000</td>\n",
       "      <td>30000.000000</td>\n",
       "    </tr>\n",
       "    <tr>\n",
       "      <th>mean</th>\n",
       "      <td>4.461294e+07</td>\n",
       "      <td>6.161967</td>\n",
       "      <td>2749.509593</td>\n",
       "      <td>2.973833</td>\n",
       "      <td>49.944033</td>\n",
       "    </tr>\n",
       "    <tr>\n",
       "      <th>std</th>\n",
       "      <td>2.779759e+07</td>\n",
       "      <td>3.323929</td>\n",
       "      <td>2568.639288</td>\n",
       "      <td>5.974530</td>\n",
       "      <td>64.401655</td>\n",
       "    </tr>\n",
       "    <tr>\n",
       "      <th>min</th>\n",
       "      <td>3.636541e+06</td>\n",
       "      <td>0.000000</td>\n",
       "      <td>0.000000</td>\n",
       "      <td>0.000000</td>\n",
       "      <td>0.000000</td>\n",
       "    </tr>\n",
       "    <tr>\n",
       "      <th>25%</th>\n",
       "      <td>2.228600e+07</td>\n",
       "      <td>4.000000</td>\n",
       "      <td>882.592500</td>\n",
       "      <td>0.000000</td>\n",
       "      <td>0.000000</td>\n",
       "    </tr>\n",
       "    <tr>\n",
       "      <th>50%</th>\n",
       "      <td>4.002449e+07</td>\n",
       "      <td>6.000000</td>\n",
       "      <td>1902.420000</td>\n",
       "      <td>0.000000</td>\n",
       "      <td>1.000000</td>\n",
       "    </tr>\n",
       "    <tr>\n",
       "      <th>75%</th>\n",
       "      <td>6.559352e+07</td>\n",
       "      <td>8.000000</td>\n",
       "      <td>3863.920000</td>\n",
       "      <td>0.000000</td>\n",
       "      <td>100.000000</td>\n",
       "    </tr>\n",
       "    <tr>\n",
       "      <th>max</th>\n",
       "      <td>9.628253e+07</td>\n",
       "      <td>56.000000</td>\n",
       "      <td>27165.880000</td>\n",
       "      <td>20.000000</td>\n",
       "      <td>199.000000</td>\n",
       "    </tr>\n",
       "  </tbody>\n",
       "</table>\n",
       "</div>"
      ],
      "text/plain": [
       "         Product ID    Units Sold  Sales Revenue (USD)  Discount Percentage  \\\n",
       "count  3.000000e+04  30000.000000         30000.000000         30000.000000   \n",
       "mean   4.461294e+07      6.161967          2749.509593             2.973833   \n",
       "std    2.779759e+07      3.323929          2568.639288             5.974530   \n",
       "min    3.636541e+06      0.000000             0.000000             0.000000   \n",
       "25%    2.228600e+07      4.000000           882.592500             0.000000   \n",
       "50%    4.002449e+07      6.000000          1902.420000             0.000000   \n",
       "75%    6.559352e+07      8.000000          3863.920000             0.000000   \n",
       "max    9.628253e+07     56.000000         27165.880000            20.000000   \n",
       "\n",
       "       Marketing Spend (USD)  \n",
       "count           30000.000000  \n",
       "mean               49.944033  \n",
       "std                64.401655  \n",
       "min                 0.000000  \n",
       "25%                 0.000000  \n",
       "50%                 1.000000  \n",
       "75%               100.000000  \n",
       "max               199.000000  "
      ]
     },
     "execution_count": 11,
     "metadata": {},
     "output_type": "execute_result"
    }
   ],
   "source": [
    "# To view summary statistics of a numerical columns\n",
    "retail_df.describe()"
   ]
  },
  {
   "cell_type": "code",
   "execution_count": 12,
   "id": "6f0d8a21",
   "metadata": {},
   "outputs": [
    {
     "name": "stdout",
     "output_type": "stream",
     "text": [
      "False\n"
     ]
    }
   ],
   "source": [
    "# Check if there are any duplicate rows in the DataFrame\n",
    "print(retail_df.duplicated().any())"
   ]
  },
  {
   "cell_type": "markdown",
   "id": "cdb66431",
   "metadata": {},
   "source": [
    "# Exploratory Analysis and Visualization"
   ]
  },
  {
   "cell_type": "code",
   "execution_count": 13,
   "id": "ef951c81",
   "metadata": {},
   "outputs": [],
   "source": [
    "import matplotlib\n",
    "%matplotlib inline\n",
    "sns.set_style('darkgrid')\n",
    "sns.set()\n",
    "matplotlib.rcParams['font.size']=14\n",
    "matplotlib.rcParams['figure.figsize']=[9,5]\n",
    "matplotlib.rcParams['figure.facecolor']='#00000000'"
   ]
  },
  {
   "cell_type": "markdown",
   "id": "27cdc449",
   "metadata": {},
   "source": [
    "## Total and Average Sales"
   ]
  },
  {
   "cell_type": "code",
   "execution_count": 14,
   "id": "30413cf5",
   "metadata": {},
   "outputs": [
    {
     "name": "stdout",
     "output_type": "stream",
     "text": [
      "Total Sales: 184859\n",
      "Average Sales: 6.161966666666666\n"
     ]
    }
   ],
   "source": [
    "# Calculate total and average sales\n",
    "total_sales = retail_df['Units Sold'].sum()\n",
    "average_sales = retail_df['Units Sold'].mean()\n",
    "print(f\"Total Sales: {total_sales}\")\n",
    "print(f\"Average Sales: {average_sales}\")"
   ]
  },
  {
   "cell_type": "markdown",
   "id": "6934a566",
   "metadata": {},
   "source": [
    "## Sales by Product Category"
   ]
  },
  {
   "cell_type": "code",
   "execution_count": 15,
   "id": "de6b7fd2",
   "metadata": {},
   "outputs": [
    {
     "name": "stdout",
     "output_type": "stream",
     "text": [
      "\n",
      "Total Sales by Category:\n",
      "Product Category\n",
      "Clothing       38654\n",
      "Electronics    56798\n",
      "Furniture      58994\n",
      "Groceries      30413\n",
      "Name: Units Sold, dtype: int64\n"
     ]
    }
   ],
   "source": [
    "# Finding total product category \n",
    "category_sales = retail_df.groupby('Product Category')['Units Sold'].sum()\n",
    "print(\"\\nTotal Sales by Category:\")\n",
    "print(category_sales)"
   ]
  },
  {
   "cell_type": "code",
   "execution_count": 16,
   "id": "320e0918",
   "metadata": {},
   "outputs": [
    {
     "data": {
      "image/png": "[encoded data removed]",
      "text/plain": [
       "<Figure size 864x432 with 1 Axes>"
      ]
     },
     "metadata": {
      "needs_background": "light"
     },
     "output_type": "display_data"
    }
   ],
   "source": [
    "# Plot Units Sold by Product Category\n",
    "plt.figure(figsize=(12,6))\n",
    "sns.barplot(x=category_sales.index, y=category_sales)\n",
    "plt.title('Units Sold by Product Category')\n",
    "plt.xlabel('Product Category')\n",
    "plt.ylabel('Units Sold')\n",
    "plt.xticks(rotation=45)\n",
    "plt.show()"
   ]
  },
  {
   "cell_type": "markdown",
   "id": "1d7c92c3",
   "metadata": {},
   "source": [
    "## Monthly and Yearly Sales"
   ]
  },
  {
   "cell_type": "code",
   "execution_count": 17,
   "id": "bc2055e9",
   "metadata": {},
   "outputs": [],
   "source": [
    "# Putting date column into datetime format\n",
    "retail_df['Date'] = pd.to_datetime(retail_df['Date'])"
   ]
  },
  {
   "cell_type": "code",
   "execution_count": 18,
   "id": "f3095022",
   "metadata": {},
   "outputs": [
    {
     "name": "stdout",
     "output_type": "stream",
     "text": [
      "\n",
      "Monthly Sales:\n",
      "Date\n",
      "January 2022      7054\n",
      "February 2022     6292\n",
      "March 2022        6927\n",
      "April 2022        7318\n",
      "May 2022          7678\n",
      "June 2022         7305\n",
      "July 2022         8107\n",
      "August 2022       8210\n",
      "September 2022    7837\n",
      "October 2022      8471\n",
      "November 2022     8277\n",
      "December 2022     8878\n",
      "January 2023      6916\n",
      "February 2023     6202\n",
      "March 2023        6886\n",
      "April 2023        7523\n",
      "May 2023          7594\n",
      "June 2023         7225\n",
      "July 2023         8309\n",
      "August 2023       8317\n",
      "September 2023    7948\n",
      "October 2023      8375\n",
      "November 2023     8233\n",
      "December 2023     8792\n",
      "January 2024       185\n",
      "Name: Units Sold, dtype: int64\n"
     ]
    }
   ],
   "source": [
    "# Group by month and calculate total sales\n",
    "monthly_sales = retail_df.resample('M', on='Date')['Units Sold'].sum()\n",
    "\n",
    "# Format the index to display month name and year\n",
    "monthly_sales.index = monthly_sales.index.strftime('%B %Y')\n",
    "\n",
    "print(\"\\nMonthly Sales:\")\n",
    "print(monthly_sales)"
   ]
  },
  {
   "cell_type": "code",
   "execution_count": 19,
   "id": "cf3c44c8",
   "metadata": {},
   "outputs": [
    {
     "data": {
      "image/png": "[encoded data removed]",
      "text/plain": [
       "<Figure size 720x432 with 1 Axes>"
      ]
     },
     "metadata": {
      "needs_background": "light"
     },
     "output_type": "display_data"
    }
   ],
   "source": [
    "# Plot monthly sales\n",
    "plt.figure(figsize=(10, 6))\n",
    "monthly_sales.plot(kind='line')\n",
    "plt.title('Monthly Sales Trend')\n",
    "plt.xlabel('Month')\n",
    "plt.ylabel('Total Sales')\n",
    "plt.show()"
   ]
  },
  {
   "cell_type": "code",
   "execution_count": 20,
   "id": "6c4306eb",
   "metadata": {},
   "outputs": [],
   "source": [
    "# Extract the year from the sale_date\n",
    "retail_df['Year'] = retail_df['Date'].dt.year"
   ]
  },
  {
   "cell_type": "code",
   "execution_count": 21,
   "id": "5814e236",
   "metadata": {},
   "outputs": [
    {
     "name": "stdout",
     "output_type": "stream",
     "text": [
      "      Units Sold\n",
      "Year            \n",
      "2022       92354\n",
      "2023       92320\n",
      "2024         185\n"
     ]
    }
   ],
   "source": [
    "# Group by Year and sum the Units Sold\n",
    "year_data = retail_df.groupby('Year')[['Units Sold']].sum()\n",
    "print(year_data)"
   ]
  },
  {
   "cell_type": "code",
   "execution_count": 22,
   "id": "2b9e4de5",
   "metadata": {},
   "outputs": [
    {
     "data": {
      "image/png": "[encoded data removed]",
      "text/plain": [
       "<Figure size 648x360 with 1 Axes>"
      ]
     },
     "metadata": {
      "needs_background": "light"
     },
     "output_type": "display_data"
    }
   ],
   "source": [
    "# Create the bar chart with a logarithmic y-axis\n",
    "plt.figure()\n",
    "plt.bar(x=year_data.index, height=year_data['Units Sold'], color='skyblue')\n",
    "plt.xlabel(\"Year\")\n",
    "plt.ylabel(\"Units Sold (Log Scale)\")\n",
    "plt.title(\"Yearly Sales of the Products (Logarithmic Scale)\")\n",
    "plt.yscale('log')  # Set y-axis to logarithmic scale\n",
    "plt.grid(True, which=\"both\", linestyle='--', linewidth=0.5)\n",
    "plt.show()"
   ]
  },
  {
   "cell_type": "markdown",
   "id": "f16efd60",
   "metadata": {},
   "source": [
    "## Store Location"
   ]
  },
  {
   "cell_type": "code",
   "execution_count": 23,
   "id": "f076a936",
   "metadata": {},
   "outputs": [
    {
     "name": "stdout",
     "output_type": "stream",
     "text": [
      "                       Store Location  Sales Revenue (USD)\n",
      "0                               Congo            644103.38\n",
      "1                               Korea            586331.83\n",
      "2                            Anguilla            452484.21\n",
      "3                              Turkey            447835.20\n",
      "4                               Kenya            445464.81\n",
      "5                          Mozambique            432982.67\n",
      "6                                Guam            431197.65\n",
      "7                               Egypt            426621.90\n",
      "8                      Western Sahara            426248.78\n",
      "9                       Guinea-Bissau            424394.26\n",
      "10                             Latvia            422857.50\n",
      "11                               Oman            416932.04\n",
      "12                     Cayman Islands            411683.09\n",
      "13  Heard Island and McDonald Islands            410395.83\n",
      "14                           Slovenia            410090.65\n",
      "15                             Uganda            409189.07\n",
      "16                             Poland            408322.47\n",
      "17                              Benin            408213.34\n",
      "18                              Tonga            407061.06\n",
      "19        Falkland Islands (Malvinas)            406933.85\n"
     ]
    }
   ],
   "source": [
    "# Group by 'Store Location', sum the 'Sales Revenue (USD)', and sort to find the top 20 stores by revenue\n",
    "top_20_stores = retail_df.groupby('Store Location')['Sales Revenue (USD)'].sum().sort_values(ascending=False).head(20).reset_index()\n",
    "\n",
    "# Display the top 20 stores with the most revenue\n",
    "print(top_20_stores)\n"
   ]
  },
  {
   "cell_type": "code",
   "execution_count": 24,
   "id": "36f52845",
   "metadata": {},
   "outputs": [
    {
     "data": {
      "image/png": "[encoded data removed]",
      "text/plain": [
       "<Figure size 720x576 with 1 Axes>"
      ]
     },
     "metadata": {
      "needs_background": "light"
     },
     "output_type": "display_data"
    }
   ],
   "source": [
    "plt.figure(figsize=(10, 8))\n",
    "sns.barplot(\n",
    "    x=\"Sales Revenue (USD)\",\n",
    "    y=\"Store Location\",\n",
    "    data=top_20_stores,\n",
    "    order=top_20_stores.sort_values(\"Sales Revenue (USD)\", ascending=False)[\"Store Location\"],\n",
    "    color=\"cornflowerblue\")\n",
    "plt.xlabel(\"Revenue (USD)\")\n",
    "plt.ylabel(\"\")\n",
    "plt.title(\"Top 20 Stores with Highest Revenue\")\n",
    "plt.gca().xaxis.set_major_formatter(plt.FuncFormatter(lambda x, _: f'{int(x):,}'))\n",
    "plt.grid(True, axis='x', linestyle='--', alpha=0.7)\n",
    "plt.tight_layout()\n",
    "plt.show()"
   ]
  },
  {
   "cell_type": "code",
   "execution_count": 25,
   "id": "caeebb1f",
   "metadata": {},
   "outputs": [
    {
     "name": "stdout",
     "output_type": "stream",
     "text": [
      "               Store Location  Marketing Spend (USD)\n",
      "0                       Congo                  11387\n",
      "1                       Korea                  10732\n",
      "2        United Arab Emirates                   8659\n",
      "3    Turks and Caicos Islands                   8483\n",
      "4                        Guam                   8052\n",
      "..                        ...                    ...\n",
      "238                     China                   4210\n",
      "239                Montserrat                   4171\n",
      "240                   Andorra                   3848\n",
      "241                 Swaziland                   3784\n",
      "242                Micronesia                   3514\n",
      "\n",
      "[243 rows x 2 columns]\n"
     ]
    }
   ],
   "source": [
    "#Top Stores that spent on marketing across all the products\n",
    "st_data = retail_df.groupby('Store Location')[['Marketing Spend (USD)']].sum().sort_values(by='Marketing Spend (USD)', ascending = False).reset_index()\n",
    "print(st_data)"
   ]
  },
  {
   "cell_type": "code",
   "execution_count": 26,
   "id": "1d87a429",
   "metadata": {},
   "outputs": [
    {
     "data": {
      "image/png": "[encoded data removed]",
      "text/plain": [
       "<Figure size 720x432 with 1 Axes>"
      ]
     },
     "metadata": {
      "needs_background": "light"
     },
     "output_type": "display_data"
    }
   ],
   "source": [
    "# visualize the data\n",
    "plt.figure(figsize = (10,6))\n",
    "sns.barplot(x = st_data['Store Location'][:10], y = st_data['Marketing Spend (USD)'][:10])\n",
    "plt.title(\"Top Stores that spent on marketing across all the products\")\n",
    "plt.xticks(rotation = 45)\n",
    "plt.grid(True)\n",
    "plt.show()"
   ]
  },
  {
   "cell_type": "code",
   "execution_count": 27,
   "id": "14ee027c",
   "metadata": {},
   "outputs": [
    {
     "name": "stdout",
     "output_type": "stream",
     "text": [
      "    Store Location Product Category  Sales Revenue (USD)\n",
      "0            Congo        Furniture            244888.16\n",
      "1            Korea      Electronics            232990.33\n",
      "25            Oman         Clothing            158899.81\n",
      "606        Hungary        Groceries             72577.17\n"
     ]
    }
   ],
   "source": [
    "# Top store locations in terms of total revenue according to product categories\n",
    "con_data  = retail_df.groupby(['Store Location', 'Product Category'])[['Sales Revenue (USD)']].sum().sort_values(by = 'Sales Revenue (USD)', ascending = False).reset_index()\n",
    "con_data  = con_data.drop_duplicates(subset = 'Product Category' , keep = 'first')\n",
    "print(con_data)"
   ]
  },
  {
   "cell_type": "code",
   "execution_count": 28,
   "id": "ee67ada3",
   "metadata": {},
   "outputs": [
    {
     "data": {
      "image/png": "[encoded data removed]",
      "text/plain": [
       "<Figure size 720x432 with 1 Axes>"
      ]
     },
     "metadata": {
      "needs_background": "light"
     },
     "output_type": "display_data"
    }
   ],
   "source": [
    "# visualize\n",
    "plt.figure(figsize = (10,6))\n",
    "sns.barplot(data  =  con_data, x = con_data['Product Category'],  y = con_data['Sales Revenue (USD)'], hue = 'Store Location')\n",
    "plt.grid(True)\n",
    "plt.title(\"Top store locations in terms of total revenue according to product categories\")\n",
    "plt.show()"
   ]
  },
  {
   "cell_type": "markdown",
   "id": "070daa93",
   "metadata": {},
   "source": [
    "## Holiday Effect"
   ]
  },
  {
   "cell_type": "code",
   "execution_count": 29,
   "id": "30e828aa",
   "metadata": {},
   "outputs": [],
   "source": [
    "# Holiday Effect categories and count occurences\n",
    "categories = [False, True]\n",
    "counts = retail_df['Holiday Effect'].value_counts().tolist()"
   ]
  },
  {
   "cell_type": "code",
   "execution_count": 30,
   "id": "f3343c65",
   "metadata": {},
   "outputs": [
    {
     "data": {
      "text/plain": [
       "False    29836\n",
       "True       164\n",
       "Name: Holiday Effect, dtype: int64"
      ]
     },
     "execution_count": 30,
     "metadata": {},
     "output_type": "execute_result"
    }
   ],
   "source": [
    "# Count of the holiday effect\n",
    "Holiday_Effect_counts=retail_df['Holiday Effect'].value_counts(dropna=False)\n",
    "Holiday_Effect_counts"
   ]
  },
  {
   "cell_type": "code",
   "execution_count": 31,
   "id": "01de910f",
   "metadata": {},
   "outputs": [
    {
     "data": {
      "image/png": "[encoded data removed]",
      "text/plain": [
       "<Figure size 648x360 with 1 Axes>"
      ]
     },
     "metadata": {},
     "output_type": "display_data"
    }
   ],
   "source": [
    "# Visualizing the holiday effect \n",
    "plt.pie(x=Holiday_Effect_counts,labels=Holiday_Effect_counts.index,autopct='%1.f%%',explode=[0.2,0])\n",
    "plt.title('Holiday Effect Analysis by Percentage')\n",
    "plt.legend();"
   ]
  },
  {
   "cell_type": "markdown",
   "id": "72e11567",
   "metadata": {},
   "source": [
    "## Distribution of Sales Revenue"
   ]
  },
  {
   "cell_type": "code",
   "execution_count": 32,
   "id": "d2c64572",
   "metadata": {},
   "outputs": [
    {
     "name": "stdout",
     "output_type": "stream",
     "text": [
      "  Product Category  Sales Revenue (USD)\n",
      "0      Electronics          29414540.61\n",
      "1        Furniture          22913105.64\n",
      "2         Clothing          19952024.73\n",
      "3        Groceries          10205616.80\n"
     ]
    }
   ],
   "source": [
    "# Group by 'Product ID', sum the 'Sales Revenue (USD)', and sort to find the top products by revenue\n",
    "pr_data = retail_df.groupby('Product Category')[['Sales Revenue (USD)']].sum().sort_values(by='Sales Revenue (USD)', ascending=False).reset_index()\n",
    "\n",
    "# Display the top products with the most revenue\n",
    "print(pr_data)"
   ]
  },
  {
   "cell_type": "code",
   "execution_count": 33,
   "id": "536f15db",
   "metadata": {},
   "outputs": [
    {
     "data": {
      "image/png": "[encoded data removed]",
      "text/plain": [
       "<Figure size 720x432 with 1 Axes>"
      ]
     },
     "metadata": {
      "needs_background": "light"
     },
     "output_type": "display_data"
    }
   ],
   "source": [
    "#visualize the data\n",
    "plt.figure(figsize = (10,6))\n",
    "plt.barh(y=, color = 'green')\n",
    "plt.title(\"The Top Revenue Generated Products\")\n",
    "plt.xlabel(\"The Revenue\")\n",
    "plt.ylabel(\"The Product Category\")\n",
    "plt.grid(True)\n",
    "plt.tight_layout()\n",
    "plt.show()"
   ]
  },
  {
   "cell_type": "markdown",
   "id": "6f417542",
   "metadata": {},
   "source": [
    "## Discount Percentage"
   ]
  },
  {
   "cell_type": "code",
   "execution_count": 34,
   "id": "464915f7",
   "metadata": {},
   "outputs": [
    {
     "name": "stdout",
     "output_type": "stream",
     "text": [
      "  Product Category  Discount Percentage\n",
      "0        Furniture                28455\n",
      "1      Electronics                23530\n",
      "2         Clothing                19860\n",
      "3        Groceries                17370\n"
     ]
    }
   ],
   "source": [
    "#Analysing product count with discounts avaliability\n",
    "dis_data  = retail_df.groupby('Product Category')[['Discount Percentage']].sum().sort_values(by =['Discount Percentage'],ascending= False).reset_index()\n",
    "print(dis_data)"
   ]
  },
  {
   "cell_type": "code",
   "execution_count": 35,
   "id": "093427c5",
   "metadata": {},
   "outputs": [
    {
     "data": {
      "image/png": "[encoded data removed]",
      "text/plain": [
       "<Figure size 720x432 with 1 Axes>"
      ]
     },
     "metadata": {
      "needs_background": "light"
     },
     "output_type": "display_data"
    }
   ],
   "source": [
    "#visualize the data\n",
    "plt.figure(figsize = (10,6))\n",
    "sns.barplot(x = dis_data['Product Category'][:10], y = dis_data['Discount Percentage'][:10])\n",
    "plt.title(\"Discount by Product Category\")\n",
    "plt.xticks(rotation = 45)\n",
    "plt.grid(True)\n",
    "plt.show()"
   ]
  },
  {
   "cell_type": "markdown",
   "id": "5720811b",
   "metadata": {},
   "source": [
    "## Marketing Spend (USD)"
   ]
  },
  {
   "cell_type": "code",
   "execution_count": 36,
   "id": "de08d440",
   "metadata": {},
   "outputs": [
    {
     "name": "stdout",
     "output_type": "stream",
     "text": [
      "  Product Category  Marketing Spend (USD)\n",
      "0        Furniture                 471330\n",
      "1      Electronics                 405997\n",
      "2         Clothing                 326019\n",
      "3        Groceries                 294975\n"
     ]
    }
   ],
   "source": [
    "#Analysis of the market spend based on the product category\n",
    "mr_data = retail_df.groupby('Product Category')[['Marketing Spend (USD)']].sum().sort_values(by=['Marketing Spend (USD)'],ascending=False).reset_index()\n",
    "print(mr_data)"
   ]
  },
  {
   "cell_type": "code",
   "execution_count": 37,
   "id": "dbfcb158",
   "metadata": {},
   "outputs": [
    {
     "data": {
      "image/png": "[encoded data removed]",
      "text/plain": [
       "<Figure size 720x432 with 1 Axes>"
      ]
     },
     "metadata": {
      "needs_background": "light"
     },
     "output_type": "display_data"
    }
   ],
   "source": [
    "#visualize the data\n",
    "plt.figure(figsize = (10,6))\n",
    "sns.barplot(x = mr_data['Product Category'], y = mr_data['Marketing Spend (USD)'])\n",
    "plt.grid(True)\n",
    "plt.title(\"The Marketing Cost over the different categories\")\n",
    "plt.show()"
   ]
  },
  {
   "cell_type": "markdown",
   "id": "c827c193",
   "metadata": {},
   "source": [
    "## OBSERVATION & CONCLUSION\n",
    "\n",
    " We can see from the analysis that \n",
    "sales by product Category has the highest sales of 58,944units was sold,which is 31.9% of the total sales(184,859). \n",
    "Monthly and Yearly sales: from the monthly sales December 2022 is the month with the highest sales of 8,878units and the least is January 2024 with 185 units sold.\n",
    "Year 2022 is the year with the highest sales of units (92,354), just a bit higher than year 2023 where 92,320units were sold.Year 2024 is the year with the least sales of 185units\n",
    "Store location: We can observe from our data analysis that the store in Congo performed best in terms of highest sales revenue of 644.103.38(USD) and you can see that they spent on marketing which cost 11,387(USD).\n",
    "Holiday effect: The holidays did not have any effect on sales because from the analysis it is 99% false.This shows that sales was still going on.\n",
    "Distribution of sales revenue: From the product category, electronics generated the most revenue of 29,414,540.61(USD).\n",
    "Discount availabilty: Furniture is the product with the most discount percentage and there was an increase in thevolume of units sold.\n",
    "Marketing Spending: We can observe from the chart that furniture has the chart that furniture has the highest marketing spend(promotional and advertising efforts). \n",
    " \n",
    " Based on these findings I would suggest that:\n",
    "Invest more in high performing product categories while the focus on less profitable ones. \n",
    "Allocate resources differently for high revenue locations compared to under performing ones,perphaps by running targeted marketing drive.\n",
    " Also, i will recommend increase in marketing spend before high performing periods e.g holidays or weekends and decrease it during low sales periods as this will result in more sales and cause an increase in revenue."
   ]
  },
  {
   "cell_type": "markdown",
   "id": "bb4c4d97",
   "metadata": {},
   "source": [
    "#                                                                                          BY EDESIRI EFETOBOR"
   ]
  }
 ],
 "metadata": {
  "kernelspec": {
   "display_name": "Python 3 (ipykernel)",
   "language": "python",
   "name": "python3"
  },
  "language_info": {
   "codemirror_mode": {
    "name": "ipython",
    "version": 3
   },
   "file_extension": ".py",
   "mimetype": "text/x-python",
   "name": "python",
   "nbconvert_exporter": "python",
   "pygments_lexer": "ipython3",
   "version": "3.12.7"
  }
 },
 "nbformat": 4,
 "nbformat_minor": 5
}
